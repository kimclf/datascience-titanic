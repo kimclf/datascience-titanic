{
 "cells": [
  {
   "cell_type": "code",
   "execution_count": null,
   "id": "3ca65c1e-9148-4514-83cd-0a5b059ffe68",
   "metadata": {},
   "outputs": [],
   "source": [
    "import pandas as pd\n",
    "\n",
    "#Criação da Variável correspondente ao dataset original#\n",
    "original = pd.read_csv(\"titanic.csv\")\n",
    "\n",
    "#Primeira Filtragem - Selecionar apenas as cinco colunas desejadas#\n",
    "resultados = original[['Name','Age','Sex','Pclass','Survived']]\n",
    "#Segunda Filtragem - Eliminar da lista passageiros que não sobreviveram#\n",
    "resultados = resultados.loc[resultados['Survived']==1]\n",
    "#Terceira Filtragem - Eliminar da lista sobreviventes que não estavam na primeira classe#\n",
    "resultados = resultados.loc[resultados['Pclass']==1]\n",
    "#Quarta Filtragem - Eliminar os homens da última lista#\n",
    "resultados = resultados.loc[resultados['Sex']=='female']\n",
    "#Organização do resultado em ordem alfabética de sobrenome e, em caso de mesmo sobrenome, por idade#\n",
    "resultados = resultados.sort_values(['Name','Age'])\n",
    "#Criação do arquivo .csv contendo o arquivo filtrado e organizado#\n",
    "resultados.to_csv('resultados.csv')\n",
    "\n",
    "#D"
   ]
  }
 ],
 "metadata": {
  "kernelspec": {
   "display_name": "Python 3 (ipykernel)",
   "language": "python",
   "name": "python3"
  },
  "language_info": {
   "codemirror_mode": {
    "name": "ipython",
    "version": 3
   },
   "file_extension": ".py",
   "mimetype": "text/x-python",
   "name": "python",
   "nbconvert_exporter": "python",
   "pygments_lexer": "ipython3",
   "version": "3.10.9"
  }
 },
 "nbformat": 4,
 "nbformat_minor": 5
}
